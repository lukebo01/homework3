{
 "cells": [
  {
   "cell_type": "markdown",
   "metadata": {},
   "source": [
    "\n",
    "Team: Data Hunters\n",
    "\n",
    "Membri: Luca Borrelli, Rainer Cabral Ilao"
   ]
  },
  {
   "cell_type": "code",
   "execution_count": 2,
   "metadata": {},
   "outputs": [],
   "source": [
    "import json\n",
    "from sentence_transformers import SentenceTransformer, util\n",
    "from bs4 import BeautifulSoup\n",
    "import math"
   ]
  },
  {
   "cell_type": "code",
   "execution_count": null,
   "metadata": {},
   "outputs": [],
   "source": [
    "models = [\n",
    "    \"sentence-transformers/all-mpnet-base-v2\",\n",
    "    \"sentence-transformers/stsb-bert-base\"\n",
    "]\n",
    "\n",
    "# Carica il modello di Sentence Transformers\n",
    "model = SentenceTransformer(models[1])  # Puoi sostituirlo con il modello BERT desiderato"
   ]
  },
  {
   "cell_type": "code",
   "execution_count": null,
   "metadata": {},
   "outputs": [],
   "source": [
    "\n",
    "def flatten_list(nested_list):\n",
    "    \"\"\"Appiattisce una lista nidificata in una lista piatta.\"\"\"\n",
    "    flat_list = []\n",
    "    for item in nested_list:\n",
    "        if isinstance(item, list):\n",
    "            flat_list.extend(flatten_list(item))  # Ricorsione per appiattire\n",
    "        else:\n",
    "            flat_list.append(item)\n",
    "    return flat_list\n",
    "\n",
    "# Funzione per analizzare una tabella HTML e convertirla in testo comprensibile\n",
    "def parse_html_table(html_content):\n",
    "    # Se il contenuto è una lista, appiattiscilo e concatenalo\n",
    "    if isinstance(html_content, list):\n",
    "        html_content = \"\".join(flatten_list(html_content))\n",
    "    \n",
    "    # Controlla che sia effettivamente una stringa\n",
    "    if not isinstance(html_content, str):\n",
    "        raise ValueError(\"Il contenuto HTML deve essere una stringa.\")\n",
    "    \n",
    "    # Parsing con BeautifulSoup\n",
    "    soup = BeautifulSoup(html_content, 'html.parser')\n",
    "    rows = soup.find_all('tr')\n",
    "    table_text = []\n",
    "    for row in rows:\n",
    "        cells = row.find_all(['td', 'th'])\n",
    "        table_text.append(\" \".join(cell.get_text(strip=True) for cell in cells))\n",
    "    return \"\\n\".join(table_text)\n",
    "\n",
    "# Funzione per analizzare le tabelle e rispondere alle query\n",
    "def process_queries(queries_path, data_folder, model, threshold=0.5):\n",
    "    with open(queries_path, 'r', encoding='utf-8') as f:\n",
    "        queries = json.load(f)\n",
    "    \n",
    "    for query_id, query_data in queries.items():\n",
    "        query = query_data[\"query\"]\n",
    "        results = query_data[\"result\"]\n",
    "        \n",
    "        for result in results:\n",
    "            file_path = f\"{data_folder}/{result['filename']}\"\n",
    "            \n",
    "            # Leggi il file JSON con i dati della tabella\n",
    "            with open(file_path, 'r', encoding='utf-8') as file:\n",
    "                file_data = json.load(file)\n",
    "            \n",
    "            # Estrai la tabella HTML associata a id_table\n",
    "            # NOTA: prende solo il contentuto del tag html\n",
    "            table_id = result[\"id_table\"]\n",
    "            if table_id in file_data:\n",
    "                table_html = file_data[table_id][\"table\"]\n",
    "                table_text = parse_html_table(table_html)\n",
    "                \n",
    "                # Confronta la query con il testo della tabella usando il modello\n",
    "                similarity = util.cos_sim(model.encode(query, convert_to_tensor=True), \n",
    "                                          model.encode(table_text, convert_to_tensor=True))\n",
    "                \n",
    "                # Calcolo della rilevanza come grado (tra 0 e 1)\n",
    "                similarity_score = similarity.item()\n",
    "                \n",
    "                # Aggiungi sia la rilevanza booleana che il grado di rilevanza\n",
    "                result[\"relevance\"] = similarity_score > threshold  # True se somiglianza > soglia\n",
    "                result[\"relevance_score\"] = math.ceil(similarity_score * 5)  # Grado di rilevanza (0-1)\n",
    "            else:\n",
    "                result[\"relevance\"] = False\n",
    "                result[\"relevance_score\"] = 0.0\n",
    "    \n",
    "    # Scrivi i risultati aggiornati nel file queries.json\n",
    "    with open(queries_path, 'w', encoding='utf-8') as f:\n",
    "        json.dump(queries, f, indent=2)"
   ]
  },
  {
   "cell_type": "code",
   "execution_count": 9,
   "metadata": {},
   "outputs": [],
   "source": [
    "# Esempio di utilizzo\n",
    "queries_path = \"../queries_stsb-bert-base.json\"  # Percorso al file queries.json\n",
    "data_folder = \"../all_tables\"           # Cartella contenente i file con le tabelle\n",
    "process_queries(queries_path, data_folder,model)"
   ]
  }
 ],
 "metadata": {
  "kernelspec": {
   "display_name": ".venv",
   "language": "python",
   "name": "python3"
  },
  "language_info": {
   "codemirror_mode": {
    "name": "ipython",
    "version": 3
   },
   "file_extension": ".py",
   "mimetype": "text/x-python",
   "name": "python",
   "nbconvert_exporter": "python",
   "pygments_lexer": "ipython3",
   "version": "3.12.4"
  }
 },
 "nbformat": 4,
 "nbformat_minor": 2
}
